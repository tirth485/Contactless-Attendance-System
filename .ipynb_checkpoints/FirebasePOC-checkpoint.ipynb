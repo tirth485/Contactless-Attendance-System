{
 "cells": [
  {
   "cell_type": "code",
   "execution_count": 94,
   "metadata": {},
   "outputs": [
    {
     "ename": "ValueError",
     "evalue": "The default Firebase app already exists. This means you called initialize_app() more than once without providing an app name as the second argument. In most cases you only need to call initialize_app() once. But if you do want to initialize multiple apps, pass a second argument to initialize_app() to give each app a unique name.",
     "output_type": "error",
     "traceback": [
      "\u001b[1;31m---------------------------------------------------------------------------\u001b[0m",
      "\u001b[1;31mValueError\u001b[0m                                Traceback (most recent call last)",
      "\u001b[1;32m<ipython-input-94-0f27636dae9b>\u001b[0m in \u001b[0;36m<module>\u001b[1;34m\u001b[0m\n\u001b[0;32m      6\u001b[0m \u001b[0mcred\u001b[0m \u001b[1;33m=\u001b[0m \u001b[0mcredentials\u001b[0m\u001b[1;33m.\u001b[0m\u001b[0mCertificate\u001b[0m\u001b[1;33m(\u001b[0m\u001b[1;34m'Facerecognition/mycreds.json'\u001b[0m\u001b[1;33m)\u001b[0m\u001b[1;33m\u001b[0m\u001b[1;33m\u001b[0m\u001b[0m\n\u001b[0;32m      7\u001b[0m \u001b[1;33m\u001b[0m\u001b[0m\n\u001b[1;32m----> 8\u001b[1;33m firebase_admin.initialize_app(cred, {\n\u001b[0m\u001b[0;32m      9\u001b[0m     \u001b[1;34m'databaseURL'\u001b[0m\u001b[1;33m:\u001b[0m \u001b[1;34m'https://ingenious-1221c-default-rtdb.firebaseio.com/'\u001b[0m\u001b[1;33m\u001b[0m\u001b[1;33m\u001b[0m\u001b[0m\n\u001b[0;32m     10\u001b[0m })\n",
      "\u001b[1;32mc:\\users\\yashs\\appdata\\local\\programs\\python\\python38\\lib\\site-packages\\firebase_admin\\__init__.py\u001b[0m in \u001b[0;36minitialize_app\u001b[1;34m(credential, options, name)\u001b[0m\n\u001b[0;32m     69\u001b[0m \u001b[1;33m\u001b[0m\u001b[0m\n\u001b[0;32m     70\u001b[0m     \u001b[1;32mif\u001b[0m \u001b[0mname\u001b[0m \u001b[1;33m==\u001b[0m \u001b[0m_DEFAULT_APP_NAME\u001b[0m\u001b[1;33m:\u001b[0m\u001b[1;33m\u001b[0m\u001b[1;33m\u001b[0m\u001b[0m\n\u001b[1;32m---> 71\u001b[1;33m         raise ValueError((\n\u001b[0m\u001b[0;32m     72\u001b[0m             \u001b[1;34m'The default Firebase app already exists. This means you called '\u001b[0m\u001b[1;33m\u001b[0m\u001b[1;33m\u001b[0m\u001b[0m\n\u001b[0;32m     73\u001b[0m             \u001b[1;34m'initialize_app() more than once without providing an app name as '\u001b[0m\u001b[1;33m\u001b[0m\u001b[1;33m\u001b[0m\u001b[0m\n",
      "\u001b[1;31mValueError\u001b[0m: The default Firebase app already exists. This means you called initialize_app() more than once without providing an app name as the second argument. In most cases you only need to call initialize_app() once. But if you do want to initialize multiple apps, pass a second argument to initialize_app() to give each app a unique name."
     ]
    }
   ],
   "source": [
    "import firebase_admin\n",
    "from firebase_admin import credentials\n",
    "from firebase_admin import db\n",
    "\n",
    "\n",
    "cred = credentials.Certificate('Facerecognition/mycreds.json')\n",
    "\n",
    "firebase_admin.initialize_app(cred, {\n",
    "    'databaseURL': 'https://ingenious-1221c-default-rtdb.firebaseio.com/'\n",
    "})\n",
    "\n"
   ]
  },
  {
   "cell_type": "code",
   "execution_count": 106,
   "metadata": {},
   "outputs": [],
   "source": [
    "\n",
    "def deleteAll():\n",
    "    \n",
    "    reference=db.reference('')\n",
    "    reference.delete()\n",
    "    tmp = dict()\n",
    "    tmp[\"GS1\"] = \"GS1\"\n",
    "    tmp[\"users\"] = dict()\n",
    "    tmp[\"users\"][\"GS2\"] = \"GS2\"\n",
    "    tmp[\"logs\"] = dict()\n",
    "    tmp[\"logs\"][\"GS3\"] = \"GS3\"\n",
    "    # print(tmp)\n",
    "    reference=db.reference('')\n",
    "    reference.set(tmp)\n",
    "\n",
    "\n",
    "def insertUser(email,name):\n",
    "\n",
    "    reference=db.reference('users')\n",
    "    tmp = reference.get()\n",
    "    \n",
    "    keys = list(tmp.keys())\n",
    "    keys.remove('GS2')\n",
    "    #print(keys)\n",
    "    \n",
    "    id = 0\n",
    "    keys = list(map(int, keys))\n",
    "    if(len(keys)>0):\n",
    "        id = max(keys)+1\n",
    "    \n",
    "    tmp[str(id)] = dict()\n",
    "    \n",
    "    tmp[str(id)]['email'] = str(email)\n",
    "    tmp[str(id)]['name'] = str(name)\n",
    "    \n",
    "    reference=db.reference('users')\n",
    "    reference.set(tmp)\n",
    "    \n",
    "    return id\n",
    "\n",
    "import time\n",
    "\n",
    "def insertLog(id):\n",
    "    \n",
    "    timestamp = str(int(time.time()))\n",
    "    reference=db.reference('logs')\n",
    "    tmp = reference.get()\n",
    "    \n",
    "    if(str(id) not in tmp):\n",
    "        tmp[str(id)] = dict()\n",
    "    \n",
    "    status = 1\n",
    "    keys = list(tmp[str(id)].keys())\n",
    "    keys = list(map(int, keys))\n",
    "    print(keys)\n",
    "    \n",
    "    if(len(keys)>0):\n",
    "        maxx = max(keys)\n",
    "        status = 1-int(tmp[str(id)][str(maxx)])\n",
    "    \n",
    "    tmp[str(id)][timestamp] = str(status) \n",
    "\n",
    "    reference=db.reference('logs')\n",
    "    reference.set(tmp)"
   ]
  },
  {
   "cell_type": "code",
   "execution_count": 113,
   "metadata": {},
   "outputs": [
    {
     "name": "stdout",
     "output_type": "stream",
     "text": [
      "[1616783315, 1616783320]\n"
     ]
    }
   ],
   "source": [
    "\n",
    "insertLog(1)\n"
   ]
  },
  {
   "cell_type": "code",
   "execution_count": 114,
   "metadata": {},
   "outputs": [],
   "source": [
    "deleteAll()"
   ]
  },
  {
   "cell_type": "code",
   "execution_count": 82,
   "metadata": {},
   "outputs": [
    {
     "data": {
      "text/plain": [
       "1616782572"
      ]
     },
     "execution_count": 82,
     "metadata": {},
     "output_type": "execute_result"
    }
   ],
   "source": [
    "import time\n",
    "timestamp = int(time.time()) \n",
    "timestamp"
   ]
  },
  {
   "cell_type": "code",
   "execution_count": 1,
   "metadata": {},
   "outputs": [
    {
     "name": "stdout",
     "output_type": "stream",
     "text": [
      "1 ['0_Yash Shah']\n"
     ]
    }
   ],
   "source": [
    "import pickle\n",
    "import cv2\n",
    "import face_recognition\n",
    "import numpy as np\n",
    "\n",
    "yo = open('Facerecognition/valid_names', 'rb') \n",
    "valid_names = pickle.load(yo) \n",
    "yo = open('Facerecognition/valid_encoding', 'rb') \n",
    "valid_encoding = pickle.load(yo) \n",
    "\n",
    "def getSingleEncoding(path):\n",
    "    frame = cv2.imread(path)\n",
    "    frame = cv2.resize(frame, (0, 0), fx=1, fy=1)\n",
    "    frame = frame[:, :, ::-1]\n",
    "    face_locations = face_recognition.face_locations(frame)\n",
    "    frame = face_recognition.face_encodings(frame, face_locations)\n",
    "    return frame\n",
    "\n",
    "# yash = getSingleEncoding(\"Facerecognition/UserImages/1_Yash Shah.jpg\")\n",
    "# mark = getSingleEncoding(\"Facerecognition/UserImages/0_Mark bing.jpg\")\n",
    "\n",
    "print(len(valid_encoding),valid_names)\n",
    "\n",
    "def getAllMatchingFaces(encodings):\n",
    "\n",
    "    ls = []\n",
    "    \n",
    "    for face_encoding in encodings:\n",
    "    \n",
    "        matches = face_recognition.compare_faces(valid_encoding, face_encoding)\n",
    "        name = \"unregistered\"\n",
    "        \n",
    "        face_distances = face_recognition.face_distance(valid_encoding, face_encoding)\n",
    "        \n",
    "        best_match_index = np.argmin(face_distances)\n",
    "        \n",
    "        if(matches[best_match_index]):\n",
    "            name = valid_names[best_match_index]\n",
    "        ls.append(name)\n",
    "        \n",
    "    return ls\n",
    "\n",
    "# print(getAllMatchingFaces(yash))\n",
    "# print(getAllMatchingFaces(mark))"
   ]
  },
  {
   "cell_type": "code",
   "execution_count": 44,
   "metadata": {},
   "outputs": [
    {
     "data": {
      "text/plain": [
       "'tu587m6ob31616777426591858.jpg'"
      ]
     },
     "execution_count": 44,
     "metadata": {},
     "output_type": "execute_result"
    }
   ],
   "source": [
    "import time\n",
    "import random\n",
    "\n",
    "def getRandomFileName():\n",
    "    x = 'a b c d e f g h i j k l m n o p q r s t u v w x y z 0 1 2 3 4 5 6 7 8 9'.split(\" \")\n",
    "    r = ''\n",
    "    for i in range(10):\n",
    "        random.shuffle(x)\n",
    "        r+=x[0]\n",
    "    ts = time.time()\n",
    "    tmpfilename = r+(''.join(str(ts).split('.')))+'.jpg'\n",
    "    return tmpfilename\n",
    "\n",
    "\n",
    "getRandomFileName()\n"
   ]
  }
 ],
 "metadata": {
  "kernelspec": {
   "display_name": "Python 3",
   "language": "python",
   "name": "python3"
  },
  "language_info": {
   "codemirror_mode": {
    "name": "ipython",
    "version": 3
   },
   "file_extension": ".py",
   "mimetype": "text/x-python",
   "name": "python",
   "nbconvert_exporter": "python",
   "pygments_lexer": "ipython3",
   "version": "3.8.3"
  }
 },
 "nbformat": 4,
 "nbformat_minor": 4
}
