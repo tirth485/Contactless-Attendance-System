{
 "cells": [
  {
   "cell_type": "code",
   "execution_count": 4,
   "metadata": {},
   "outputs": [
    {
     "data": {
      "text/plain": [
       "<firebase_admin.App at 0x1ed7da06dc0>"
      ]
     },
     "execution_count": 4,
     "metadata": {},
     "output_type": "execute_result"
    }
   ],
   "source": [
    "import firebase_admin\n",
    "from firebase_admin import credentials\n",
    "from firebase_admin import db\n",
    "\n",
    "\n",
    "cred = credentials.Certificate('Facerecognition/mycreds.json')\n",
    "\n",
    "firebase_admin.initialize_app(cred, {\n",
    "    'databaseURL': 'https://ingenious-1221c-default-rtdb.firebaseio.com/'\n",
    "})\n",
    "\n"
   ]
  },
  {
   "cell_type": "code",
   "execution_count": 5,
   "metadata": {},
   "outputs": [],
   "source": [
    "\n",
    "def deleteAll():\n",
    "    \n",
    "    reference=db.reference('')\n",
    "    reference.delete()\n",
    "    tmp = dict()\n",
    "    tmp[\"GS1\"] = \"GS1\"\n",
    "    tmp[\"users\"] = dict()\n",
    "    tmp[\"users\"][\"GS2\"] = \"GS2\"\n",
    "    tmp[\"logs\"] = dict()\n",
    "    tmp[\"logs\"][\"GS3\"] = \"GS3\"\n",
    "    # print(tmp)\n",
    "    reference=db.reference('')\n",
    "    reference.set(tmp)\n",
    "\n",
    "\n",
    "def insertUser(email,name):\n",
    "\n",
    "    reference=db.reference('users')\n",
    "    tmp = reference.get()\n",
    "    \n",
    "    keys = list(tmp.keys())\n",
    "    keys.remove('GS2')\n",
    "    #print(keys)\n",
    "    \n",
    "    id = 0\n",
    "    keys = list(map(int, keys))\n",
    "    if(len(keys)>0):\n",
    "        id = max(keys)+1\n",
    "    \n",
    "    tmp[str(id)] = dict()\n",
    "    \n",
    "    tmp[str(id)]['email'] = str(email)\n",
    "    tmp[str(id)]['name'] = str(name)\n",
    "    \n",
    "    reference=db.reference('users')\n",
    "    reference.set(tmp)\n",
    "    \n",
    "    return id\n",
    "\n",
    "def insertLog(id,timestamp,status):\n",
    "\n",
    "    reference=db.reference('logs')\n",
    "    tmp = reference.get()\n",
    "    \n",
    "    if(str(id) not in tmp):\n",
    "        tmp[str(id)] = dict()\n",
    "\n",
    "    tmp[str(id)][str(timestamp)] = str(status) \n",
    "\n",
    "    reference=db.reference('logs')\n",
    "    reference.set(tmp)"
   ]
  },
  {
   "cell_type": "code",
   "execution_count": 20,
   "metadata": {},
   "outputs": [],
   "source": [
    "deleteAll()\n",
    "\n",
    "insertUser('sp@gmail.com','Savan Patel')\n",
    "insertLog(0,4354,0)\n",
    "insertUser('yash@gmail.com','Yash Shah')\n",
    "insertLog(1,4355,0)\n",
    "insertLog(0,4356,1)\n",
    "insertLog(1,4357,1)\n"
   ]
  },
  {
   "cell_type": "code",
   "execution_count": 6,
   "metadata": {},
   "outputs": [],
   "source": [
    "deleteAll()"
   ]
  }
 ],
 "metadata": {
  "kernelspec": {
   "display_name": "Python 3",
   "language": "python",
   "name": "python3"
  },
  "language_info": {
   "codemirror_mode": {
    "name": "ipython",
    "version": 3
   },
   "file_extension": ".py",
   "mimetype": "text/x-python",
   "name": "python",
   "nbconvert_exporter": "python",
   "pygments_lexer": "ipython3",
   "version": "3.8.3"
  }
 },
 "nbformat": 4,
 "nbformat_minor": 4
}
